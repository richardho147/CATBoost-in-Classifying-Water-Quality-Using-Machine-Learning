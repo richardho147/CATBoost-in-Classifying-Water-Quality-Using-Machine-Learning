{
 "cells": [
  {
   "cell_type": "code",
   "execution_count": 37,
   "metadata": {},
   "outputs": [
    {
     "name": "stdout",
     "output_type": "stream",
     "text": [
      "Average Euclidean Distance: 1.422385719331522\n",
      "Average Cosine Similarity: 0.9801107272044504\n"
     ]
    }
   ],
   "source": [
    "import pandas as pd\n",
    "from sklearn.impute import KNNImputer\n",
    "from sklearn.preprocessing import StandardScaler\n",
    "from scipy.spatial.distance import euclidean, cosine\n",
    "\n",
    "dataEx = pd.read_csv('water_potability.csv')\n",
    "knnEx = KNNImputer(n_neighbors = 12, weights = \"uniform\").fit_transform(dataEx)\n",
    "dFrameEx = pd.DataFrame(knnEx, columns = dataEx.columns)\n",
    "ex_subset = dFrameEx[['ph', 'Conductivity']]\n",
    "\n",
    "dataPpr = pd.read_csv('water_dataX.csv')\n",
    "# we found out that columns below are object variable from dataPpr.info()\n",
    "columns = ['B.O.D.', 'NITRATE N+ NITRITEN', 'FECAL COLIFORM', 'TOTAL COLIFORM']\n",
    "for column in columns:\n",
    "    dataPpr[column] = pd.to_numeric(dataPpr[column], errors='coerce')\n",
    "knnPpr = KNNImputer(n_neighbors = 12, weights = \"uniform\").fit_transform(dataPpr)\n",
    "dFramePpr = pd.DataFrame(knnPpr, columns = dataPpr.columns)\n",
    "ppr_subset = dFramePpr[['PH','CONDUCTIVITY']]\n",
    "\n",
    "ex = StandardScaler().fit_transform(ex_subset)\n",
    "ppr = StandardScaler().fit_transform(ppr_subset)\n",
    "\n",
    "minimalLength = min(len(ex), len(ppr))\n",
    "ex = ex[:minimalLength]\n",
    "ppr = ppr[:minimalLength]\n",
    "\n",
    "euclidean = [euclidean(ex[i], ppr[i]) for i in range(len(ex))]\n",
    "avgEuclidean = sum(euclidean) / len(euclidean)\n",
    "\n",
    "cosine = [cosine(ex[i], ppr[i]) for i in range(len(ex))]\n",
    "avgCosine= sum(cosine) / len(cosine)\n",
    "\n",
    "print('Average Euclidean Distance:', avgEuclidean)\n",
    "print('Average Cosine Similarity:', avgCosine)\n",
    "\n"
   ]
  }
 ],
 "metadata": {
  "kernelspec": {
   "display_name": "Python 3",
   "language": "python",
   "name": "python3"
  },
  "language_info": {
   "codemirror_mode": {
    "name": "ipython",
    "version": 3
   },
   "file_extension": ".py",
   "mimetype": "text/x-python",
   "name": "python",
   "nbconvert_exporter": "python",
   "pygments_lexer": "ipython3",
   "version": "3.7.6"
  }
 },
 "nbformat": 4,
 "nbformat_minor": 2
}
